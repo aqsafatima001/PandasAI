{
  "cells": [
    {
      "cell_type": "markdown",
      "metadata": {
        "id": "5m9QRh2ofb0M"
      },
      "source": [
        "# **PandasAI**\n",
        "PandasAI is a library that makes data analysis conversational and fun again. It leverages the power of pandas dataframes combined to the most advanced LLMs to let users to data analysis in a conversational way.\n",
        "\n",
        "Let's start!\n"
      ]
    },
    {
      "cell_type": "markdown",
      "metadata": {
        "id": "8duxIdoChr2g"
      },
      "source": [
        "## **Setup**\n",
        "To get started, we need to install the last version of PandasAI."
      ]
    },
    {
      "cell_type": "code",
      "execution_count": 43,
      "metadata": {
        "colab": {
          "base_uri": "https://localhost:8080/"
        },
        "id": "L9szBbbJe30_",
        "outputId": "06401e6e-afec-4283-dd87-439c10140e23"
      },
      "outputs": [
        {
          "name": "stdout",
          "output_type": "stream",
          "text": [
            "Requirement already satisfied: pandasai in /usr/local/lib/python3.10/dist-packages (2.0.19)\n",
            "Requirement already satisfied: astor<0.9.0,>=0.8.1 in /usr/local/lib/python3.10/dist-packages (from pandasai) (0.8.1)\n",
            "Requirement already satisfied: duckdb<1 in /usr/local/lib/python3.10/dist-packages (from pandasai) (0.9.2)\n",
            "Requirement already satisfied: faker<20.0.0,>=19.12.0 in /usr/local/lib/python3.10/dist-packages (from pandasai) (19.13.0)\n",
            "Requirement already satisfied: jinja2<4.0.0,>=3.1.3 in /usr/local/lib/python3.10/dist-packages (from pandasai) (3.1.3)\n",
            "Requirement already satisfied: matplotlib<4.0.0,>=3.7.1 in /usr/local/lib/python3.10/dist-packages (from pandasai) (3.7.1)\n",
            "Requirement already satisfied: openai<2 in /usr/local/lib/python3.10/dist-packages (from pandasai) (1.14.2)\n",
            "Requirement already satisfied: pandas==1.5.3 in /usr/local/lib/python3.10/dist-packages (from pandasai) (1.5.3)\n",
            "Requirement already satisfied: pillow<11.0.0,>=10.1.0 in /usr/local/lib/python3.10/dist-packages (from pandasai) (10.2.0)\n",
            "Requirement already satisfied: pydantic<3,>=1 in /usr/local/lib/python3.10/dist-packages (from pandasai) (2.6.4)\n",
            "Requirement already satisfied: python-dotenv<2.0.0,>=1.0.0 in /usr/local/lib/python3.10/dist-packages (from pandasai) (1.0.1)\n",
            "Requirement already satisfied: requests<3.0.0,>=2.31.0 in /usr/local/lib/python3.10/dist-packages (from pandasai) (2.31.0)\n",
            "Requirement already satisfied: scipy<2.0.0,>=1.9.0 in /usr/local/lib/python3.10/dist-packages (from pandasai) (1.11.4)\n",
            "Requirement already satisfied: sqlalchemy<3,>=1.4 in /usr/local/lib/python3.10/dist-packages (from pandasai) (2.0.28)\n",
            "Requirement already satisfied: python-dateutil>=2.8.1 in /usr/local/lib/python3.10/dist-packages (from pandas==1.5.3->pandasai) (2.8.2)\n",
            "Requirement already satisfied: pytz>=2020.1 in /usr/local/lib/python3.10/dist-packages (from pandas==1.5.3->pandasai) (2023.4)\n",
            "Requirement already satisfied: numpy>=1.21.0 in /usr/local/lib/python3.10/dist-packages (from pandas==1.5.3->pandasai) (1.25.2)\n",
            "Requirement already satisfied: MarkupSafe>=2.0 in /usr/local/lib/python3.10/dist-packages (from jinja2<4.0.0,>=3.1.3->pandasai) (2.1.5)\n",
            "Requirement already satisfied: contourpy>=1.0.1 in /usr/local/lib/python3.10/dist-packages (from matplotlib<4.0.0,>=3.7.1->pandasai) (1.2.0)\n",
            "Requirement already satisfied: cycler>=0.10 in /usr/local/lib/python3.10/dist-packages (from matplotlib<4.0.0,>=3.7.1->pandasai) (0.12.1)\n",
            "Requirement already satisfied: fonttools>=4.22.0 in /usr/local/lib/python3.10/dist-packages (from matplotlib<4.0.0,>=3.7.1->pandasai) (4.49.0)\n",
            "Requirement already satisfied: kiwisolver>=1.0.1 in /usr/local/lib/python3.10/dist-packages (from matplotlib<4.0.0,>=3.7.1->pandasai) (1.4.5)\n",
            "Requirement already satisfied: packaging>=20.0 in /usr/local/lib/python3.10/dist-packages (from matplotlib<4.0.0,>=3.7.1->pandasai) (24.0)\n",
            "Requirement already satisfied: pyparsing>=2.3.1 in /usr/local/lib/python3.10/dist-packages (from matplotlib<4.0.0,>=3.7.1->pandasai) (3.1.2)\n",
            "Requirement already satisfied: anyio<5,>=3.5.0 in /usr/local/lib/python3.10/dist-packages (from openai<2->pandasai) (3.7.1)\n",
            "Requirement already satisfied: distro<2,>=1.7.0 in /usr/lib/python3/dist-packages (from openai<2->pandasai) (1.7.0)\n",
            "Requirement already satisfied: httpx<1,>=0.23.0 in /usr/local/lib/python3.10/dist-packages (from openai<2->pandasai) (0.27.0)\n",
            "Requirement already satisfied: sniffio in /usr/local/lib/python3.10/dist-packages (from openai<2->pandasai) (1.3.1)\n",
            "Requirement already satisfied: tqdm>4 in /usr/local/lib/python3.10/dist-packages (from openai<2->pandasai) (4.66.2)\n",
            "Requirement already satisfied: typing-extensions<5,>=4.7 in /usr/local/lib/python3.10/dist-packages (from openai<2->pandasai) (4.10.0)\n",
            "Requirement already satisfied: annotated-types>=0.4.0 in /usr/local/lib/python3.10/dist-packages (from pydantic<3,>=1->pandasai) (0.6.0)\n",
            "Requirement already satisfied: pydantic-core==2.16.3 in /usr/local/lib/python3.10/dist-packages (from pydantic<3,>=1->pandasai) (2.16.3)\n",
            "Requirement already satisfied: charset-normalizer<4,>=2 in /usr/local/lib/python3.10/dist-packages (from requests<3.0.0,>=2.31.0->pandasai) (3.3.2)\n",
            "Requirement already satisfied: idna<4,>=2.5 in /usr/local/lib/python3.10/dist-packages (from requests<3.0.0,>=2.31.0->pandasai) (3.6)\n",
            "Requirement already satisfied: urllib3<3,>=1.21.1 in /usr/local/lib/python3.10/dist-packages (from requests<3.0.0,>=2.31.0->pandasai) (2.0.7)\n",
            "Requirement already satisfied: certifi>=2017.4.17 in /usr/local/lib/python3.10/dist-packages (from requests<3.0.0,>=2.31.0->pandasai) (2024.2.2)\n",
            "Requirement already satisfied: greenlet!=0.4.17 in /usr/local/lib/python3.10/dist-packages (from sqlalchemy<3,>=1.4->pandasai) (3.0.3)\n",
            "Requirement already satisfied: exceptiongroup in /usr/local/lib/python3.10/dist-packages (from anyio<5,>=3.5.0->openai<2->pandasai) (1.2.0)\n",
            "Requirement already satisfied: httpcore==1.* in /usr/local/lib/python3.10/dist-packages (from httpx<1,>=0.23.0->openai<2->pandasai) (1.0.4)\n",
            "Requirement already satisfied: h11<0.15,>=0.13 in /usr/local/lib/python3.10/dist-packages (from httpcore==1.*->httpx<1,>=0.23.0->openai<2->pandasai) (0.14.0)\n",
            "Requirement already satisfied: six>=1.5 in /usr/local/lib/python3.10/dist-packages (from python-dateutil>=2.8.1->pandas==1.5.3->pandasai) (1.16.0)\n"
          ]
        }
      ],
      "source": [
        "!pip install pandasai"
      ]
    },
    {
      "cell_type": "markdown",
      "metadata": {
        "id": "EkSwZhHqfIzg"
      },
      "source": [
        "# **SmartDataframe**\n",
        "\n",
        "A SmartDataframe is a pandas (or polars) dataframe that inherits all the properties and methods from the `pd.DataFrame`, but also adds conversational features to it."
      ]
    },
    {
      "cell_type": "code",
      "execution_count": 44,
      "metadata": {
        "id": "DKTLrefOgGYj"
      },
      "outputs": [],
      "source": [
        "from pandasai import SmartDataframe"
      ]
    },
    {
      "cell_type": "markdown",
      "metadata": {
        "id": "7NkkotuPf1Tw"
      },
      "source": [
        "You can instantiate a dataframe importing from several different sources (pandas or polars dataframe, csv, xlsx or google sheets)."
      ]
    },
    {
      "cell_type": "markdown",
      "metadata": {
        "id": "LJdaiLU9gA4g"
      },
      "source": [
        "### **Importing from a pandas dataframe**"
      ]
    },
    {
      "cell_type": "markdown",
      "metadata": {
        "id": "viepQXfkglJY"
      },
      "source": [
        "To import from a pandas dataframe, you need to import the pandas libraries and create a dataframe first."
      ]
    },
    {
      "cell_type": "code",
      "execution_count": 45,
      "metadata": {
        "id": "LOj6QLWGLMlD"
      },
      "outputs": [],
      "source": [
        "import pandas as pd"
      ]
    },
    {
      "cell_type": "code",
      "execution_count": 46,
      "metadata": {
        "id": "ugogHbQxf0Y6"
      },
      "outputs": [],
      "source": [
        "df = pd.DataFrame({\n",
        "    \"country\": [\n",
        "        \"United States\",\n",
        "        \"United Kingdom\",\n",
        "        \"France\",\n",
        "        \"Germany\",\n",
        "        \"Italy\",\n",
        "        \"Spain\",\n",
        "        \"Canada\",\n",
        "        \"Australia\",\n",
        "        \"Japan\",\n",
        "        \"China\",\n",
        "    ],\n",
        "    \"gdp\": [\n",
        "        19294482071552,\n",
        "        2891615567872,\n",
        "        2411255037952,\n",
        "        3435817336832,\n",
        "        1745433788416,\n",
        "        1181205135360,\n",
        "        1607402389504,\n",
        "        1490967855104,\n",
        "        4380756541440,\n",
        "        14631844184064,\n",
        "    ],\n",
        "    \"happiness_index\": [6.94, 7.16, 6.66, 7.07, 6.38, 6.4, 7.23, 7.22, 5.87, 5.12],\n",
        "})"
      ]
    },
    {
      "cell_type": "markdown",
      "metadata": {
        "id": "2bD7r0EtgsdD"
      },
      "source": [
        "Since PandasAI is powered by a LLM, you should import the LLM you'd like to use for your use case. In thic case we're gonna use OpenAI.\n",
        "\n",
        "To use OpenAI, you'll need a API token. Follow below simple steps to generate your API_TOKEN with\n",
        "[openai](https://platform.openai.com/overview).\n",
        "\n",
        "1. Go to  https://openai.com/api/ and signup with your email address or connect your Google Account.\n",
        "2. Go to View API Keys on left side of your Personal Account Settings\n",
        "3. Select Create new Secret key\n",
        "\n",
        "> The API access to openai is a paid service. You have to set up billing.\n",
        ">Read the [Pricing](https://platform.openai.com/docs/quickstart/pricing) information before experimenting."
      ]
    },
    {
      "cell_type": "code",
      "execution_count": 47,
      "metadata": {
        "id": "rB64X01YgrmH"
      },
      "outputs": [],
      "source": [
        "from pandasai.llm import OpenAI\n",
        "\n",
        "llm = OpenAI(api_token=\"YOUR_API_KEY\")"
      ]
    },
    {
      "cell_type": "markdown",
      "metadata": {
        "id": "TlhiAynHiQ0y"
      },
      "source": [
        "Now that we have instantiated the LLM, we can finally instantiate the `SmartDataframe`"
      ]
    },
    {
      "cell_type": "code",
      "execution_count": 48,
      "metadata": {
        "id": "hXFeO02JiYRC"
      },
      "outputs": [],
      "source": [
        "sdf = SmartDataframe(df, config={\"llm\": llm})"
      ]
    },
    {
      "cell_type": "markdown",
      "metadata": {
        "id": "SEsxIYyTjHm1"
      },
      "source": [
        "You can now query it in natural language"
      ]
    },
    {
      "cell_type": "code",
      "execution_count": 49,
      "metadata": {
        "colab": {
          "base_uri": "https://localhost:8080/",
          "height": 206
        },
        "id": "0pVAthBSjEpx",
        "outputId": "1412d5a0-6bbb-462f-cba2-37a42980d722"
      },
      "outputs": [
        {
          "data": {
            "application/vnd.google.colaboratory.intrinsic+json": {
              "summary": "{\n  \"name\": \"sdf\",\n  \"rows\": 5,\n  \"fields\": [\n    {\n      \"column\": \"country\",\n      \"properties\": {\n        \"dtype\": \"string\",\n        \"num_unique_values\": 5,\n        \"samples\": [\n          \"China\",\n          \"United Kingdom\",\n          \"Japan\"\n        ],\n        \"semantic_type\": \"\",\n        \"description\": \"\"\n      }\n    },\n    {\n      \"column\": \"gdp\",\n      \"properties\": {\n        \"dtype\": \"number\",\n        \"std\": 7537858009571,\n        \"min\": 2891615567872,\n        \"max\": 19294482071552,\n        \"num_unique_values\": 5,\n        \"samples\": [\n          14631844184064,\n          2891615567872,\n          4380756541440\n        ],\n        \"semantic_type\": \"\",\n        \"description\": \"\"\n      }\n    },\n    {\n      \"column\": \"happiness_index\",\n      \"properties\": {\n        \"dtype\": \"number\",\n        \"std\": 0.8989271383154477,\n        \"min\": 5.12,\n        \"max\": 7.16,\n        \"num_unique_values\": 5,\n        \"samples\": [\n          5.12,\n          7.16,\n          5.87\n        ],\n        \"semantic_type\": \"\",\n        \"description\": \"\"\n      }\n    }\n  ]\n}",
              "type": "dataframe"
            },
            "text/html": [
              "\n",
              "  <div id=\"df-b0a2b0aa-aa67-4520-843f-4dc60bd7f055\" class=\"colab-df-container\">\n",
              "    <div>\n",
              "<style scoped>\n",
              "    .dataframe tbody tr th:only-of-type {\n",
              "        vertical-align: middle;\n",
              "    }\n",
              "\n",
              "    .dataframe tbody tr th {\n",
              "        vertical-align: top;\n",
              "    }\n",
              "\n",
              "    .dataframe thead th {\n",
              "        text-align: right;\n",
              "    }\n",
              "</style>\n",
              "<table border=\"1\" class=\"dataframe\">\n",
              "  <thead>\n",
              "    <tr style=\"text-align: right;\">\n",
              "      <th></th>\n",
              "      <th>country</th>\n",
              "      <th>gdp</th>\n",
              "      <th>happiness_index</th>\n",
              "    </tr>\n",
              "  </thead>\n",
              "  <tbody>\n",
              "    <tr>\n",
              "      <th>0</th>\n",
              "      <td>United States</td>\n",
              "      <td>19294482071552</td>\n",
              "      <td>6.94</td>\n",
              "    </tr>\n",
              "    <tr>\n",
              "      <th>9</th>\n",
              "      <td>China</td>\n",
              "      <td>14631844184064</td>\n",
              "      <td>5.12</td>\n",
              "    </tr>\n",
              "    <tr>\n",
              "      <th>8</th>\n",
              "      <td>Japan</td>\n",
              "      <td>4380756541440</td>\n",
              "      <td>5.87</td>\n",
              "    </tr>\n",
              "    <tr>\n",
              "      <th>3</th>\n",
              "      <td>Germany</td>\n",
              "      <td>3435817336832</td>\n",
              "      <td>7.07</td>\n",
              "    </tr>\n",
              "    <tr>\n",
              "      <th>1</th>\n",
              "      <td>United Kingdom</td>\n",
              "      <td>2891615567872</td>\n",
              "      <td>7.16</td>\n",
              "    </tr>\n",
              "  </tbody>\n",
              "</table>\n",
              "</div>\n",
              "    <div class=\"colab-df-buttons\">\n",
              "\n",
              "  <div class=\"colab-df-container\">\n",
              "    <button class=\"colab-df-convert\" onclick=\"convertToInteractive('df-b0a2b0aa-aa67-4520-843f-4dc60bd7f055')\"\n",
              "            title=\"Convert this dataframe to an interactive table.\"\n",
              "            style=\"display:none;\">\n",
              "\n",
              "  <svg xmlns=\"http://www.w3.org/2000/svg\" height=\"24px\" viewBox=\"0 -960 960 960\">\n",
              "    <path d=\"M120-120v-720h720v720H120Zm60-500h600v-160H180v160Zm220 220h160v-160H400v160Zm0 220h160v-160H400v160ZM180-400h160v-160H180v160Zm440 0h160v-160H620v160ZM180-180h160v-160H180v160Zm440 0h160v-160H620v160Z\"/>\n",
              "  </svg>\n",
              "    </button>\n",
              "\n",
              "  <style>\n",
              "    .colab-df-container {\n",
              "      display:flex;\n",
              "      gap: 12px;\n",
              "    }\n",
              "\n",
              "    .colab-df-convert {\n",
              "      background-color: #E8F0FE;\n",
              "      border: none;\n",
              "      border-radius: 50%;\n",
              "      cursor: pointer;\n",
              "      display: none;\n",
              "      fill: #1967D2;\n",
              "      height: 32px;\n",
              "      padding: 0 0 0 0;\n",
              "      width: 32px;\n",
              "    }\n",
              "\n",
              "    .colab-df-convert:hover {\n",
              "      background-color: #E2EBFA;\n",
              "      box-shadow: 0px 1px 2px rgba(60, 64, 67, 0.3), 0px 1px 3px 1px rgba(60, 64, 67, 0.15);\n",
              "      fill: #174EA6;\n",
              "    }\n",
              "\n",
              "    .colab-df-buttons div {\n",
              "      margin-bottom: 4px;\n",
              "    }\n",
              "\n",
              "    [theme=dark] .colab-df-convert {\n",
              "      background-color: #3B4455;\n",
              "      fill: #D2E3FC;\n",
              "    }\n",
              "\n",
              "    [theme=dark] .colab-df-convert:hover {\n",
              "      background-color: #434B5C;\n",
              "      box-shadow: 0px 1px 3px 1px rgba(0, 0, 0, 0.15);\n",
              "      filter: drop-shadow(0px 1px 2px rgba(0, 0, 0, 0.3));\n",
              "      fill: #FFFFFF;\n",
              "    }\n",
              "  </style>\n",
              "\n",
              "    <script>\n",
              "      const buttonEl =\n",
              "        document.querySelector('#df-b0a2b0aa-aa67-4520-843f-4dc60bd7f055 button.colab-df-convert');\n",
              "      buttonEl.style.display =\n",
              "        google.colab.kernel.accessAllowed ? 'block' : 'none';\n",
              "\n",
              "      async function convertToInteractive(key) {\n",
              "        const element = document.querySelector('#df-b0a2b0aa-aa67-4520-843f-4dc60bd7f055');\n",
              "        const dataTable =\n",
              "          await google.colab.kernel.invokeFunction('convertToInteractive',\n",
              "                                                    [key], {});\n",
              "        if (!dataTable) return;\n",
              "\n",
              "        const docLinkHtml = 'Like what you see? Visit the ' +\n",
              "          '<a target=\"_blank\" href=https://colab.research.google.com/notebooks/data_table.ipynb>data table notebook</a>'\n",
              "          + ' to learn more about interactive tables.';\n",
              "        element.innerHTML = '';\n",
              "        dataTable['output_type'] = 'display_data';\n",
              "        await google.colab.output.renderOutput(dataTable, element);\n",
              "        const docLink = document.createElement('div');\n",
              "        docLink.innerHTML = docLinkHtml;\n",
              "        element.appendChild(docLink);\n",
              "      }\n",
              "    </script>\n",
              "  </div>\n",
              "\n",
              "\n",
              "<div id=\"df-c5ff4946-2f27-4105-8167-6b348b031a0b\">\n",
              "  <button class=\"colab-df-quickchart\" onclick=\"quickchart('df-c5ff4946-2f27-4105-8167-6b348b031a0b')\"\n",
              "            title=\"Suggest charts\"\n",
              "            style=\"display:none;\">\n",
              "\n",
              "<svg xmlns=\"http://www.w3.org/2000/svg\" height=\"24px\"viewBox=\"0 0 24 24\"\n",
              "     width=\"24px\">\n",
              "    <g>\n",
              "        <path d=\"M19 3H5c-1.1 0-2 .9-2 2v14c0 1.1.9 2 2 2h14c1.1 0 2-.9 2-2V5c0-1.1-.9-2-2-2zM9 17H7v-7h2v7zm4 0h-2V7h2v10zm4 0h-2v-4h2v4z\"/>\n",
              "    </g>\n",
              "</svg>\n",
              "  </button>\n",
              "\n",
              "<style>\n",
              "  .colab-df-quickchart {\n",
              "      --bg-color: #E8F0FE;\n",
              "      --fill-color: #1967D2;\n",
              "      --hover-bg-color: #E2EBFA;\n",
              "      --hover-fill-color: #174EA6;\n",
              "      --disabled-fill-color: #AAA;\n",
              "      --disabled-bg-color: #DDD;\n",
              "  }\n",
              "\n",
              "  [theme=dark] .colab-df-quickchart {\n",
              "      --bg-color: #3B4455;\n",
              "      --fill-color: #D2E3FC;\n",
              "      --hover-bg-color: #434B5C;\n",
              "      --hover-fill-color: #FFFFFF;\n",
              "      --disabled-bg-color: #3B4455;\n",
              "      --disabled-fill-color: #666;\n",
              "  }\n",
              "\n",
              "  .colab-df-quickchart {\n",
              "    background-color: var(--bg-color);\n",
              "    border: none;\n",
              "    border-radius: 50%;\n",
              "    cursor: pointer;\n",
              "    display: none;\n",
              "    fill: var(--fill-color);\n",
              "    height: 32px;\n",
              "    padding: 0;\n",
              "    width: 32px;\n",
              "  }\n",
              "\n",
              "  .colab-df-quickchart:hover {\n",
              "    background-color: var(--hover-bg-color);\n",
              "    box-shadow: 0 1px 2px rgba(60, 64, 67, 0.3), 0 1px 3px 1px rgba(60, 64, 67, 0.15);\n",
              "    fill: var(--button-hover-fill-color);\n",
              "  }\n",
              "\n",
              "  .colab-df-quickchart-complete:disabled,\n",
              "  .colab-df-quickchart-complete:disabled:hover {\n",
              "    background-color: var(--disabled-bg-color);\n",
              "    fill: var(--disabled-fill-color);\n",
              "    box-shadow: none;\n",
              "  }\n",
              "\n",
              "  .colab-df-spinner {\n",
              "    border: 2px solid var(--fill-color);\n",
              "    border-color: transparent;\n",
              "    border-bottom-color: var(--fill-color);\n",
              "    animation:\n",
              "      spin 1s steps(1) infinite;\n",
              "  }\n",
              "\n",
              "  @keyframes spin {\n",
              "    0% {\n",
              "      border-color: transparent;\n",
              "      border-bottom-color: var(--fill-color);\n",
              "      border-left-color: var(--fill-color);\n",
              "    }\n",
              "    20% {\n",
              "      border-color: transparent;\n",
              "      border-left-color: var(--fill-color);\n",
              "      border-top-color: var(--fill-color);\n",
              "    }\n",
              "    30% {\n",
              "      border-color: transparent;\n",
              "      border-left-color: var(--fill-color);\n",
              "      border-top-color: var(--fill-color);\n",
              "      border-right-color: var(--fill-color);\n",
              "    }\n",
              "    40% {\n",
              "      border-color: transparent;\n",
              "      border-right-color: var(--fill-color);\n",
              "      border-top-color: var(--fill-color);\n",
              "    }\n",
              "    60% {\n",
              "      border-color: transparent;\n",
              "      border-right-color: var(--fill-color);\n",
              "    }\n",
              "    80% {\n",
              "      border-color: transparent;\n",
              "      border-right-color: var(--fill-color);\n",
              "      border-bottom-color: var(--fill-color);\n",
              "    }\n",
              "    90% {\n",
              "      border-color: transparent;\n",
              "      border-bottom-color: var(--fill-color);\n",
              "    }\n",
              "  }\n",
              "</style>\n",
              "\n",
              "  <script>\n",
              "    async function quickchart(key) {\n",
              "      const quickchartButtonEl =\n",
              "        document.querySelector('#' + key + ' button');\n",
              "      quickchartButtonEl.disabled = true;  // To prevent multiple clicks.\n",
              "      quickchartButtonEl.classList.add('colab-df-spinner');\n",
              "      try {\n",
              "        const charts = await google.colab.kernel.invokeFunction(\n",
              "            'suggestCharts', [key], {});\n",
              "      } catch (error) {\n",
              "        console.error('Error during call to suggestCharts:', error);\n",
              "      }\n",
              "      quickchartButtonEl.classList.remove('colab-df-spinner');\n",
              "      quickchartButtonEl.classList.add('colab-df-quickchart-complete');\n",
              "    }\n",
              "    (() => {\n",
              "      let quickchartButtonEl =\n",
              "        document.querySelector('#df-c5ff4946-2f27-4105-8167-6b348b031a0b button');\n",
              "      quickchartButtonEl.style.display =\n",
              "        google.colab.kernel.accessAllowed ? 'block' : 'none';\n",
              "    })();\n",
              "  </script>\n",
              "</div>\n",
              "\n",
              "    </div>\n",
              "  </div>\n"
            ],
            "text/plain": [
              "          country             gdp  happiness_index\n",
              "0   United States  19294482071552             6.94\n",
              "9           China  14631844184064             5.12\n",
              "8           Japan   4380756541440             5.87\n",
              "3         Germany   3435817336832             7.07\n",
              "1  United Kingdom   2891615567872             7.16"
            ]
          },
          "execution_count": 49,
          "metadata": {},
          "output_type": "execute_result"
        }
      ],
      "source": [
        "sdf.chat(\"Return the top 5 countries by GDP\")"
      ]
    },
    {
      "cell_type": "code",
      "execution_count": 50,
      "metadata": {
        "colab": {
          "base_uri": "https://localhost:8080/"
        },
        "id": "us1r15KQjZlu",
        "outputId": "d81a84ac-506e-4877-8ee0-e265a02c8096"
      },
      "outputs": [
        {
          "data": {
            "text/plain": [
              "19012600725504"
            ]
          },
          "execution_count": 50,
          "metadata": {},
          "output_type": "execute_result"
        }
      ],
      "source": [
        "sdf.chat(\"What's the sum of the gdp of the 2 unhappiest countries?\")"
      ]
    },
    {
      "cell_type": "code",
      "execution_count": 51,
      "metadata": {
        "colab": {
          "base_uri": "https://localhost:8080/"
        },
        "id": "uzOEjV3LjqDF",
        "outputId": "fd24b8af-430a-4505-d6cf-71fc5b43fbb8"
      },
      "outputs": [
        {
          "name": "stdout",
          "output_type": "stream",
          "text": [
            "data = {'country': ['Japan', 'United Kingdom', 'China'], 'gdp': [1999553663, 182624606, 3310106901], 'happiness_index': [6.94, 5.87, 7.16]}\n",
            "df = dfs[0]\n",
            "df_sorted = df.sort_values(by='happiness_index')\n",
            "sum_gdp_unhappiest = df_sorted.head(2)['gdp'].sum()\n",
            "result = {'type': 'number', 'value': sum_gdp_unhappiest}\n"
          ]
        }
      ],
      "source": [
        "print(sdf.last_code_generated)"
      ]
    },
    {
      "cell_type": "markdown",
      "metadata": {
        "id": "Pl_PQflF4_1u"
      },
      "source": [
        "### Plotting a chart\n",
        "\n",
        "You can also use PandasAI to easily plot a chart"
      ]
    },
    {
      "cell_type": "code",
      "execution_count": 52,
      "metadata": {
        "colab": {
          "base_uri": "https://localhost:8080/",
          "height": 626
        },
        "id": "OeAXD-9pzlSP",
        "outputId": "8957289f-db67-4602-d23f-76ac82eb430d"
      },
      "outputs": [
        {
          "data": {
            "application/vnd.google.colaboratory.intrinsic+json": {
              "type": "string"
            },
            "text/plain": [
              "'/content/exports/charts/temp_chart.png'"
            ]
          },
          "execution_count": 52,
          "metadata": {},
          "output_type": "execute_result"
        },
        {
          "data": {
            "image/png": "[encoded data removed]",
            "text/plain": [
              "<Figure size 1200x600 with 1 Axes>"
            ]
          },
          "metadata": {},
          "output_type": "display_data"
        }
      ],
      "source": [
        "sdf.chat(\"Plot a chart of the gdp by country\")"
      ]
    },
    {
      "cell_type": "markdown",
      "metadata": {
        "id": "J0lqXjcq5QyN"
      },
      "source": [
        "You can also provide additional instructions. For example, imagine you want to use different colors for each bar. You just need to ask to PandasAI:"
      ]
    },
    {
      "cell_type": "code",
      "execution_count": 53,
      "metadata": {
        "colab": {
          "base_uri": "https://localhost:8080/",
          "height": 583
        },
        "id": "U5pJRgyY5QR2",
        "outputId": "324c99d0-89ab-4807-bead-389c27822ed6"
      },
      "outputs": [
        {
          "data": {
            "image/png": "[encoded data removed]",
            "text/plain": [
              "<Figure size 1000x600 with 1 Axes>"
            ]
          },
          "metadata": {},
          "output_type": "display_data"
        },
        {
          "data": {
            "application/vnd.google.colaboratory.intrinsic+json": {
              "type": "string"
            },
            "text/plain": [
              "'/content/exports/charts/temp_chart.png'"
            ]
          },
          "execution_count": 53,
          "metadata": {},
          "output_type": "execute_result"
        }
      ],
      "source": [
        "sdf.chat(\"Plot a histogram of the gdp by country, using a different color for each bar\")"
      ]
    },
    {
      "cell_type": "markdown",
      "metadata": {
        "id": "JvFf3OQPJ2T5"
      },
      "source": [
        "# SmartDatalake\n",
        "\n",
        "Sometimes, you might want to work with multiple dataframes at a time, letting the LLM orchestrate which one(s) to use to answer your queries. In such cases, instead of using a `SmartDataframe` you should rather use a `SmartDatalake`.\n",
        "\n",
        "The concept is very similar to the `SmartDataframe`, but instead of accepting only 1 df as input, it can accept multiple ones."
      ]
    },
    {
      "cell_type": "code",
      "execution_count": 54,
      "metadata": {
        "id": "Xf-q8r35KYL1"
      },
      "outputs": [],
      "source": [
        "from pandasai import SmartDatalake"
      ]
    },
    {
      "cell_type": "markdown",
      "metadata": {
        "id": "yX3Ph1yYKfst"
      },
      "source": [
        "For example, in this example, we are provided with 2 different dfs.\n",
        "In the first one, it's reported for each employee, an employee id, a name and a department.\n",
        "In the second one, instad, it's provided the employee id and the salary for each employee.\n",
        "\n",
        "Asking PandasAI, it will join the 2 different dataframes by id and figure out the name of the one that is paid the most."
      ]
    },
    {
      "cell_type": "code",
      "execution_count": 55,
      "metadata": {
        "colab": {
          "base_uri": "https://localhost:8080/",
          "height": 36
        },
        "id": "3GIglds_KbHo",
        "outputId": "3acabb07-5cc2-4f55-e31a-6f6e394f9dc9"
      },
      "outputs": [
        {
          "data": {
            "application/vnd.google.colaboratory.intrinsic+json": {
              "type": "string"
            },
            "text/plain": [
              "'The employee with the highest salary is Olivia with a salary of 7000.'"
            ]
          },
          "execution_count": 55,
          "metadata": {},
          "output_type": "execute_result"
        }
      ],
      "source": [
        "employees_df = pd.DataFrame(\n",
        "    {\n",
        "        \"EmployeeID\": [1, 2, 3, 4, 5],\n",
        "        \"Name\": [\"John\", \"Emma\", \"Liam\", \"Olivia\", \"William\"],\n",
        "        \"Department\": [\"HR\", \"Sales\", \"IT\", \"Marketing\", \"Finance\"],\n",
        "    }\n",
        ")\n",
        "\n",
        "salaries_df = pd.DataFrame(\n",
        "    {\n",
        "        \"EmployeeID\": [1, 2, 3, 4, 5],\n",
        "        \"Salary\": [5000, 6000, 4500, 7000, 5500],\n",
        "    }\n",
        ")\n",
        "\n",
        "lake = SmartDatalake(\n",
        "    [employees_df, salaries_df],\n",
        "    config={\"llm\": llm}\n",
        ")\n",
        "lake.chat(\"Who gets paid the most?\")"
      ]
    },
    {
      "cell_type": "markdown",
      "metadata": {
        "id": "FVElosbbK-_i"
      },
      "source": [
        "Here's an example of the code that is generated:"
      ]
    },
    {
      "cell_type": "code",
      "execution_count": 56,
      "metadata": {
        "colab": {
          "base_uri": "https://localhost:8080/"
        },
        "id": "jyaxD4N4LEl2",
        "outputId": "8a702cb8-86de-4ec0-e917-ce5705ccbcdf"
      },
      "outputs": [
        {
          "name": "stdout",
          "output_type": "stream",
          "text": [
            "highest_salary = max(dfs[1]['Salary'])\n",
            "result = {'type': 'string', 'value': f\"The employee with the highest salary is {dfs[0]['Name'][dfs[1]['Salary'].idxmax()]} with a salary of {highest_salary}.\"}\n"
          ]
        }
      ],
      "source": [
        "print(lake.last_code_executed)"
      ]
    },
    {
      "cell_type": "markdown",
      "metadata": {
        "id": "wr-xjtHvMf_q"
      },
      "source": [
        "Ok in this case it was easy: both the tables are share a common value called `EmployeeID`, right?\n",
        "\n",
        "Let's try with something more complex"
      ]
    },
    {
      "cell_type": "code",
      "execution_count": 57,
      "metadata": {
        "colab": {
          "base_uri": "https://localhost:8080/"
        },
        "id": "VjJc8HH9MfNH",
        "outputId": "0ae1e1f6-7b9a-42b2-9103-ccb4ed9425a2"
      },
      "outputs": [
        {
          "data": {
            "text/plain": [
              "1"
            ]
          },
          "execution_count": 57,
          "metadata": {},
          "output_type": "execute_result"
        }
      ],
      "source": [
        "users_df = pd.DataFrame(\n",
        "    {\n",
        "        \"id\": [1, 2, 3, 4, 5],\n",
        "        \"name\": [\"John\", \"Emma\", \"Liam\", \"Olivia\", \"William\"]\n",
        "    }\n",
        ")\n",
        "users = SmartDataframe(users_df, name=\"users\")\n",
        "\n",
        "photos_df = pd.DataFrame(\n",
        "    {\n",
        "        \"id\": [31, 32, 33, 34, 35],\n",
        "        \"user_id\": [1, 1, 2, 4, 5]\n",
        "    }\n",
        ")\n",
        "photos = SmartDataframe(photos_df, name=\"photos\")\n",
        "\n",
        "lake = SmartDatalake([users, photos], config={\"llm\": llm})\n",
        "lake.chat(\"How many photos has been uploaded by John?\")"
      ]
    },
    {
      "cell_type": "markdown",
      "metadata": {
        "id": "pstO0KLvNjK9"
      },
      "source": [
        "In this case we provided for each df a table name, so that the LLM has some context and can better perform the joins. As you can see on the example below, it succeeded at figuring out the right join to do. In fact, the user \"John\" has actually 2 photos."
      ]
    },
    {
      "cell_type": "code",
      "execution_count": 58,
      "metadata": {
        "colab": {
          "base_uri": "https://localhost:8080/"
        },
        "id": "7KNnAKWyNenA",
        "outputId": "8cac7b39-b444-416a-f152-c273ea511d01"
      },
      "outputs": [
        {
          "name": "stdout",
          "output_type": "stream",
          "text": [
            "john_df = None\n",
            "for df in dfs:\n",
            "    if 'name' in df.columns and 'id' in df.columns:\n",
            "        john_df = df[df['name'] == 'John']\n",
            "        break\n",
            "num_photos_uploaded = len(john_df) if john_df is not None else 0\n",
            "result = {'type': 'number', 'value': num_photos_uploaded}\n"
          ]
        }
      ],
      "source": [
        "print(lake.last_code_executed)"
      ]
    }
  ],
  "metadata": {
    "colab": {
      "provenance": []
    },
    "kernelspec": {
      "display_name": "Python 3",
      "name": "python3"
    },
    "language_info": {
      "name": "python"
    }
  },
  "nbformat": 4,
  "nbformat_minor": 0
}
